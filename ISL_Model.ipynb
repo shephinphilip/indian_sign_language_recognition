{
  "nbformat": 4,
  "nbformat_minor": 0,
  "metadata": {
    "colab": {
      "provenance": []
    },
    "kernelspec": {
      "name": "python3",
      "display_name": "Python 3"
    },
    "language_info": {
      "name": "python"
    }
  },
  "cells": [
    {
      "cell_type": "code",
      "execution_count": null,
      "metadata": {
        "id": "KfhqloE-jSZL"
      },
      "outputs": [],
      "source": [
        "import os\n",
        "import cv2\n",
        "import numpy as np\n",
        "from sklearn.model_selection import train_test_split\n",
        "from sklearn.preprocessing import LabelEncoder\n",
        "from tensorflow.keras.utils import to_categorical"
      ]
    },
    {
      "cell_type": "code",
      "source": [
        "# Set the path to the dataset directory\n",
        "dataset_path = '/content/drive/MyDrive/Dataset'\n",
        "\n",
        "\n"
      ],
      "metadata": {
        "id": "2z7ZbX85kMHZ"
      },
      "execution_count": null,
      "outputs": []
    },
    {
      "cell_type": "code",
      "source": [
        "# Function to load and preprocess the dataset\n",
        "def preprocess_dataset(dataset_path):\n",
        "    images = []\n",
        "    labels = []\n",
        "\n",
        "    # Iterate over the subfolders in the dataset directory\n",
        "    for class_folder in os.listdir(dataset_path):\n",
        "        class_path = os.path.join(dataset_path, class_folder)\n",
        "        if os.path.isdir(class_path):\n",
        "            # Iterate over the images in the current subfolder\n",
        "            for image_file in os.listdir(class_path):\n",
        "                if image_file.endswith('.jpg') or image_file.endswith('.png'):\n",
        "                    # Load the image\n",
        "                    image_path = os.path.join(class_path, image_file)\n",
        "                    image = cv2.imread(image_path)\n",
        "\n",
        "                    # Convert image to grayscale if necessary\n",
        "                    if image.ndim == 3:\n",
        "                        image = cv2.cvtColor(image, cv2.COLOR_BGR2GRAY)\n",
        "\n",
        "                    # Preprocess the image (e.g., resize, normalize, etc.)\n",
        "                    image = cv2.resize(image, (224, 224))\n",
        "                    image = image / 255.0\n",
        "\n",
        "                    # Get the label from the subfolder name\n",
        "                    label = class_folder\n",
        "\n",
        "                    # Add the preprocessed image and label to the lists\n",
        "                    images.append(image)\n",
        "                    labels.append(label)\n",
        "\n",
        "    # Convert the image and label lists to numpy arrays\n",
        "    images = np.array(images)\n",
        "    labels = np.array(labels)\n",
        "\n",
        "    # Perform data splitting into training and testing sets\n",
        "    X_train, X_test, y_train, y_test = train_test_split(images, labels, test_size=0.2, random_state=42)\n",
        "\n",
        "    # Perform label encoding and one-hot encoding on the labels\n",
        "    label_encoder = LabelEncoder()\n",
        "    y_train_encoded = label_encoder.fit_transform(y_train)\n",
        "    y_test_encoded = label_encoder.transform(y_test)\n",
        "    num_classes = len(label_encoder.classes_)\n",
        "    y_train_onehot = to_categorical(y_train_encoded, num_classes)\n",
        "    y_test_onehot = to_categorical(y_test_encoded, num_classes)\n",
        "\n",
        "    return X_train, X_test, y_train_onehot, y_test_onehot, label_encoder.classes_\n",
        "\n",
        "# Preprocess and load the dataset\n",
        "X_train, X_test, y_train, y_test, classes = preprocess_dataset(dataset_path)\n"
      ],
      "metadata": {
        "id": "yxwrq_D0keve"
      },
      "execution_count": null,
      "outputs": []
    },
    {
      "cell_type": "code",
      "source": [
        "# Display the shape of the training and testing sets\n",
        "print('Training set shape:', X_train.shape)\n",
        "print('Testing set shape:', X_test.shape)\n",
        "print('Number of classes:', len(classes))\n",
        "print('Class labels:', classes)\n"
      ],
      "metadata": {
        "colab": {
          "base_uri": "https://localhost:8080/"
        },
        "id": "2SHQOi35likr",
        "outputId": "c8c9f769-62ab-4fec-9551-94f42521534e"
      },
      "execution_count": null,
      "outputs": [
        {
          "output_type": "stream",
          "name": "stdout",
          "text": [
            "Training set shape: (560, 224, 224)\n",
            "Testing set shape: (140, 224, 224)\n",
            "Number of classes: 35\n",
            "Class labels: ['1' '2' '3' '4' '5' '6' '7' '8' '9' 'A' 'B' 'C' 'D' 'E' 'F' 'G' 'H' 'I'\n",
            " 'J' 'K' 'L' 'M' 'N' 'O' 'P' 'Q' 'R' 'S' 'T' 'U' 'V' 'W' 'X' 'Y' 'Z']\n"
          ]
        }
      ]
    },
    {
      "cell_type": "code",
      "source": [
        "import tensorflow as tf\n",
        "from tensorflow.keras.models import Sequential\n",
        "from tensorflow.keras.layers import Conv2D, MaxPooling2D, Flatten, Dense, Dropout\n",
        "\n",
        "\n"
      ],
      "metadata": {
        "id": "qGxgSfWAl1PN"
      },
      "execution_count": null,
      "outputs": []
    },
    {
      "cell_type": "code",
      "source": [
        "# Define the CNN model architecture\n",
        "model = Sequential()\n",
        "model.add(Conv2D(32, (3, 3), activation='relu', input_shape=(224, 224, 1)))\n",
        "model.add(MaxPooling2D((2, 2)))\n",
        "model.add(Conv2D(64, (3, 3), activation='relu'))\n",
        "model.add(MaxPooling2D((2, 2)))\n",
        "model.add(Conv2D(128, (3, 3), activation='relu'))\n",
        "model.add(MaxPooling2D((2, 2)))\n",
        "model.add(Flatten())\n",
        "model.add(Dense(128, activation='relu'))\n",
        "model.add(Dropout(0.5))\n",
        "model.add(Dense(len(classes), activation='softmax'))\n",
        "\n"
      ],
      "metadata": {
        "id": "ZCZ8xGCTwXc0"
      },
      "execution_count": null,
      "outputs": []
    },
    {
      "cell_type": "code",
      "source": [
        "# Compile the model\n",
        "model.compile(optimizer='adam',\n",
        "              loss='categorical_crossentropy',\n",
        "              metrics=['accuracy'])\n",
        "\n"
      ],
      "metadata": {
        "id": "BXNikPvLwabr"
      },
      "execution_count": null,
      "outputs": []
    },
    {
      "cell_type": "code",
      "source": [
        "# Train the model\n",
        "history = model.fit(X_train, y_train, batch_size=32, epochs=10, validation_data=(X_test, y_test))\n"
      ],
      "metadata": {
        "colab": {
          "base_uri": "https://localhost:8080/"
        },
        "id": "7n6IKtEHwdTL",
        "outputId": "2c8e8963-b981-4c1a-f962-a14737dc942f"
      },
      "execution_count": null,
      "outputs": [
        {
          "output_type": "stream",
          "name": "stdout",
          "text": [
            "Epoch 1/10\n",
            "18/18 [==============================] - 80s 4s/step - loss: 2.0356 - accuracy: 0.4804 - val_loss: 0.0289 - val_accuracy: 0.9929\n",
            "Epoch 2/10\n",
            "18/18 [==============================] - 76s 4s/step - loss: 0.0629 - accuracy: 0.9821 - val_loss: 1.0734e-05 - val_accuracy: 1.0000\n",
            "Epoch 3/10\n",
            "18/18 [==============================] - 76s 4s/step - loss: 0.0324 - accuracy: 0.9911 - val_loss: 2.2393e-05 - val_accuracy: 1.0000\n",
            "Epoch 4/10\n",
            "18/18 [==============================] - 76s 4s/step - loss: 0.0205 - accuracy: 0.9911 - val_loss: 1.1326e-05 - val_accuracy: 1.0000\n",
            "Epoch 5/10\n",
            "18/18 [==============================] - 76s 4s/step - loss: 0.0124 - accuracy: 0.9964 - val_loss: 1.3777e-05 - val_accuracy: 1.0000\n",
            "Epoch 6/10\n",
            "18/18 [==============================] - 71s 4s/step - loss: 0.0105 - accuracy: 0.9964 - val_loss: 4.7575e-06 - val_accuracy: 1.0000\n",
            "Epoch 7/10\n",
            "18/18 [==============================] - 76s 4s/step - loss: 0.0189 - accuracy: 0.9929 - val_loss: 1.4142e-06 - val_accuracy: 1.0000\n",
            "Epoch 8/10\n",
            "18/18 [==============================] - 75s 4s/step - loss: 0.0210 - accuracy: 0.9929 - val_loss: 6.4222e-06 - val_accuracy: 1.0000\n",
            "Epoch 9/10\n",
            "18/18 [==============================] - 75s 4s/step - loss: 0.0134 - accuracy: 0.9964 - val_loss: 2.1966e-06 - val_accuracy: 1.0000\n",
            "Epoch 10/10\n",
            "18/18 [==============================] - 75s 4s/step - loss: 0.0096 - accuracy: 0.9964 - val_loss: 1.8576e-05 - val_accuracy: 1.0000\n"
          ]
        }
      ]
    },
    {
      "cell_type": "code",
      "source": [
        "# Evaluate the model\n",
        "loss, accuracy = model.evaluate(X_test, y_test)\n",
        "print('Test Loss:', loss)\n",
        "print('Test Accuracy:', accuracy)"
      ],
      "metadata": {
        "colab": {
          "base_uri": "https://localhost:8080/"
        },
        "id": "ufwGtKuwwfms",
        "outputId": "4052ae4f-c54e-475d-a3e1-1f04d984ec9f"
      },
      "execution_count": null,
      "outputs": [
        {
          "output_type": "stream",
          "name": "stdout",
          "text": [
            "5/5 [==============================] - 4s 715ms/step - loss: 1.8576e-05 - accuracy: 1.0000\n",
            "Test Loss: 1.8576083675725386e-05\n",
            "Test Accuracy: 1.0\n"
          ]
        }
      ]
    },
    {
      "cell_type": "code",
      "source": [
        "# Save the trained model\n",
        "model.save('sign_language_model.h5')\n",
        "print(\"Model saved successfully.\")\n"
      ],
      "metadata": {
        "colab": {
          "base_uri": "https://localhost:8080/"
        },
        "id": "2dMkQnwf0JN5",
        "outputId": "4422fbcf-ffc2-4eb8-a15d-c4f7841e7cda"
      },
      "execution_count": null,
      "outputs": [
        {
          "output_type": "stream",
          "name": "stdout",
          "text": [
            "Model saved successfully.\n"
          ]
        }
      ]
    },
    {
      "cell_type": "code",
      "source": [
        "from tensorflow.keras.models import load_model\n",
        "\n",
        "# Load the saved model\n",
        "loaded_model = load_model('sign_language_model.h5')\n",
        "\n",
        "# Use the loaded model for predictions or further analysis\n"
      ],
      "metadata": {
        "id": "RA4-MFBj0qRe"
      },
      "execution_count": null,
      "outputs": []
    },
    {
      "cell_type": "code",
      "source": [
        "# Save the trained model as an .h5 file\n",
        "model.save('sign_language_model.h5')"
      ],
      "metadata": {
        "id": "hMcpwgK80vb8"
      },
      "execution_count": null,
      "outputs": []
    },
    {
      "cell_type": "code",
      "source": [
        "from google.colab import files\n",
        "\n",
        "files.download('sign_language_model.h5')\n"
      ],
      "metadata": {
        "colab": {
          "base_uri": "https://localhost:8080/",
          "height": 17
        },
        "id": "621gITxL37aY",
        "outputId": "d72402c6-3177-4d22-cfbb-c46768021a5f"
      },
      "execution_count": null,
      "outputs": [
        {
          "output_type": "display_data",
          "data": {
            "text/plain": [
              "<IPython.core.display.Javascript object>"
            ],
            "application/javascript": [
              "\n",
              "    async function download(id, filename, size) {\n",
              "      if (!google.colab.kernel.accessAllowed) {\n",
              "        return;\n",
              "      }\n",
              "      const div = document.createElement('div');\n",
              "      const label = document.createElement('label');\n",
              "      label.textContent = `Downloading \"${filename}\": `;\n",
              "      div.appendChild(label);\n",
              "      const progress = document.createElement('progress');\n",
              "      progress.max = size;\n",
              "      div.appendChild(progress);\n",
              "      document.body.appendChild(div);\n",
              "\n",
              "      const buffers = [];\n",
              "      let downloaded = 0;\n",
              "\n",
              "      const channel = await google.colab.kernel.comms.open(id);\n",
              "      // Send a message to notify the kernel that we're ready.\n",
              "      channel.send({})\n",
              "\n",
              "      for await (const message of channel.messages) {\n",
              "        // Send a message to notify the kernel that we're ready.\n",
              "        channel.send({})\n",
              "        if (message.buffers) {\n",
              "          for (const buffer of message.buffers) {\n",
              "            buffers.push(buffer);\n",
              "            downloaded += buffer.byteLength;\n",
              "            progress.value = downloaded;\n",
              "          }\n",
              "        }\n",
              "      }\n",
              "      const blob = new Blob(buffers, {type: 'application/binary'});\n",
              "      const a = document.createElement('a');\n",
              "      a.href = window.URL.createObjectURL(blob);\n",
              "      a.download = filename;\n",
              "      div.appendChild(a);\n",
              "      a.click();\n",
              "      div.remove();\n",
              "    }\n",
              "  "
            ]
          },
          "metadata": {}
        },
        {
          "output_type": "display_data",
          "data": {
            "text/plain": [
              "<IPython.core.display.Javascript object>"
            ],
            "application/javascript": [
              "download(\"download_5ad40f1a-1b10-46c7-b327-38a0c5ac495c\", \"sign_language_model.h5\", 134126940)"
            ]
          },
          "metadata": {}
        }
      ]
    }
  ]
}